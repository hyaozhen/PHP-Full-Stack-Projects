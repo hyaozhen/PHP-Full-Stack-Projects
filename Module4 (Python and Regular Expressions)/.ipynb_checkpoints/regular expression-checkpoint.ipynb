{
 "cells": [
  {
   "cell_type": "code",
   "execution_count": 11,
   "metadata": {},
   "outputs": [
    {
     "name": "stdout",
     "output_type": "stream",
     "text": [
      "False\n"
     ]
    }
   ],
   "source": [
    "import re\n",
    "\n",
    "email_regex = re.compile(r\"\\bhello\\sworld\\b\")\n",
    "\n",
    "def domain_from_email(test):\n",
    "\tmatch = email_regex.match(test)\n",
    "\tif match is not None:\n",
    "\t\treturn match.group(1)\n",
    "\telse:\n",
    "\t\treturn False\n",
    "\n",
    "print(domain_from_email(\"wedew hello world wedew\"))"
   ]
  },
  {
   "cell_type": "code",
   "execution_count": 67,
   "metadata": {},
   "outputs": [],
   "source": [
    "from urllib.request import urlopen\n",
    "\n",
    "years = [\"1930\",\"1940\",\"1941\",\"1942\",\"1943\",\"1944\"]\n",
    "content =[]\n",
    "\n",
    "for yr in years:\n",
    "    f = open(\"/Users/zhenhan/Downloads/cardinals-\"+yr+\".txt\")\n",
    "    file_contents = f.read().splitlines()\n",
    "\n",
    "    f.close()"
   ]
  },
  {
   "cell_type": "code",
   "execution_count": 108,
   "metadata": {},
   "outputs": [],
   "source": [
    "from urllib.request import urlopen\n",
    "\n",
    "#years = [\"1930\",\"1940\",\"1941\",\"1942\",\"1943\",\"1944\"]\n",
    "\n",
    "f = open(\"/Users/zhenhan/Downloads/cardinals-1930.txt\")\n",
    "file_contents = f.read().splitlines()\n",
    "f.close()"
   ]
  },
  {
   "cell_type": "code",
   "execution_count": 113,
   "metadata": {},
   "outputs": [],
   "source": [
    "file_contents = file_contents[4:]"
   ]
  },
  {
   "cell_type": "code",
   "execution_count": 117,
   "metadata": {},
   "outputs": [
    {
     "name": "stdout",
     "output_type": "stream",
     "text": [
      "None\n"
     ]
    }
   ],
   "source": [
    "print(find_all_email_domains(file_contents[0]))"
   ]
  },
  {
   "cell_type": "code",
   "execution_count": 138,
   "metadata": {},
   "outputs": [],
   "source": [
    "import sys, os\n",
    "import re\n",
    "import pandas as pd\n",
    "\n",
    "if len(sys.argv) < 2:\n",
    "    sys.exit(f\"Usage: {sys.argv[0]} filename\")\n",
    "\n",
    "filename = sys.argv[1]\n",
    "\n",
    "if not os.path.exists(filename):\n",
    "    sys.exit(f\"Error: File '{sys.argv[1]}' not found\")\n",
    "\n",
    "email_regex = re.compile(r\"(\\b\\w*[A-Z]{1}\\w*\\b \\b\\w*[A-Z]{1}\\w*\\b) batted (\\d) times with (\\d) hits\")\n",
    "lines = []\n",
    "\n",
    "def find_all_email_domains(test):\n",
    "    for (name, times, hit) in email_regex.findall(test):\n",
    "        return [name, times, hit]\n",
    "\n",
    "for line in file_contents[1:10]:\n",
    "    l = find_all_email_domains(line)\n",
    "    if l == None:\n",
    "        pass\n",
    "    else:\n",
    "        l[1] = int(l[1])\n",
    "        l[2] = int(l[2])\n",
    "        lines.append(l)\n",
    "        \n",
    "data=pd.DataFrame(lines)\n",
    "data.columns = ['name', 'bat', 'hit']\n",
    "\n",
    "new_groupby = pd.DataFrame(data.groupby(\"name\").sum())\n",
    "new_groupby['avg_bat'] = new_groupby['hit']/new_groupby['bat']"
   ]
  },
  {
   "cell_type": "code",
   "execution_count": null,
   "metadata": {},
   "outputs": [],
   "source": [
    "new_groupby"
   ]
  },
  {
   "cell_type": "code",
   "execution_count": 100,
   "metadata": {},
   "outputs": [
    {
     "name": "stdout",
     "output_type": "stream",
     "text": [
      "[]\n"
     ]
    }
   ],
   "source": [
    "with open(\"example.txt\", \"w\") as f:\n",
    "    f.write(\"Hello\\nWorld\\n\")"
   ]
  },
  {
   "cell_type": "code",
   "execution_count": 105,
   "metadata": {},
   "outputs": [],
   "source": [
    "import re\n",
    "\n",
    "email_regex = re.compile(r\"(\\b\\w*[A-Z]{1}\\w*\\b \\b\\w*[A-Z]{1}\\w*\\b) batted (\\d) times with (\\d) hits\")\n",
    "hhh = list()\n",
    "\n",
    "def find_all_email_domains(test):\n",
    "    for (name, times, hit) in email_regex.findall(test):\n",
    "        return [name, times, hit]\n",
    "\n",
    "for line in file_contents[1:100]:\n",
    "    hhh = [hhh,find_all_email_domains(line)]"
   ]
  },
  {
   "cell_type": "code",
   "execution_count": 106,
   "metadata": {},
   "outputs": [
    {
     "data": {
      "text/plain": [
       "[[[[[[[[[[[[[[[[[[[[[[[[[[[[[[[[[[[[[[[[[[[[[[[[[[[[[[[[[[[[[[[[[[[[[[[[[[[[[[[[[[[[[[[[[[[[[[[[[[[[],\n",
       "                                                                                                   None],\n",
       "                                                                                                  None],\n",
       "                                                                                                 None],\n",
       "                                                                                                None],\n",
       "                                                                                               ['Emil Verban',\n",
       "                                                                                                '4',\n",
       "                                                                                                '1']],\n",
       "                                                                                              ['Johnny Hopp',\n",
       "                                                                                               '3',\n",
       "                                                                                               '1']],\n",
       "                                                                                             ['Stan Musial',\n",
       "                                                                                              '4',\n",
       "                                                                                              '2']],\n",
       "                                                                                            ['Walker Cooper',\n",
       "                                                                                             '3',\n",
       "                                                                                             '0']],\n",
       "                                                                                           ['Ray Sanders',\n",
       "                                                                                            '4',\n",
       "                                                                                            '0']],\n",
       "                                                                                          ['Whitey Kurowski',\n",
       "                                                                                           '4',\n",
       "                                                                                           '1']],\n",
       "                                                                                         ['Danny Litwhiler',\n",
       "                                                                                          '3',\n",
       "                                                                                          '1']],\n",
       "                                                                                        ['Marty Marion',\n",
       "                                                                                         '3',\n",
       "                                                                                         '1']],\n",
       "                                                                                       ['Max Lanier',\n",
       "                                                                                        '2',\n",
       "                                                                                        '0']],\n",
       "                                                                                      None],\n",
       "                                                                                     None],\n",
       "                                                                                    ['Emil Verban',\n",
       "                                                                                     '5',\n",
       "                                                                                     '3']],\n",
       "                                                                                   ['Johnny Hopp',\n",
       "                                                                                    '2',\n",
       "                                                                                    '0']],\n",
       "                                                                                  ['Stan Musial',\n",
       "                                                                                   '2',\n",
       "                                                                                   '1']],\n",
       "                                                                                 ['Walker Cooper',\n",
       "                                                                                  '3',\n",
       "                                                                                  '2']],\n",
       "                                                                                ['Ray Sanders',\n",
       "                                                                                 '4',\n",
       "                                                                                 '2']],\n",
       "                                                                               ['Whitey Kurowski',\n",
       "                                                                                '4',\n",
       "                                                                                '1']],\n",
       "                                                                              ['Danny Litwhiler',\n",
       "                                                                               '4',\n",
       "                                                                               '1']],\n",
       "                                                                             ['Marty Marion',\n",
       "                                                                              '4',\n",
       "                                                                              '0']],\n",
       "                                                                            ['Mort Cooper',\n",
       "                                                                             '3',\n",
       "                                                                             '0']],\n",
       "                                                                           None],\n",
       "                                                                          None],\n",
       "                                                                         ['Emil Verban',\n",
       "                                                                          '5',\n",
       "                                                                          '2']],\n",
       "                                                                        ['Johnny Hopp',\n",
       "                                                                         '4',\n",
       "                                                                         '0']],\n",
       "                                                                       ['Stan Musial',\n",
       "                                                                        '3',\n",
       "                                                                        '2']],\n",
       "                                                                      ['Walker Cooper',\n",
       "                                                                       '4',\n",
       "                                                                       '1']],\n",
       "                                                                     ['Ray Sanders',\n",
       "                                                                      '4',\n",
       "                                                                      '2']],\n",
       "                                                                    ['Whitey Kurowski',\n",
       "                                                                     '3',\n",
       "                                                                     '0']],\n",
       "                                                                   ['Danny Litwhiler',\n",
       "                                                                    '4',\n",
       "                                                                    '2']],\n",
       "                                                                  ['Marty Marion',\n",
       "                                                                   '4',\n",
       "                                                                   '1']],\n",
       "                                                                 ['Harry Brecheen',\n",
       "                                                                  '4',\n",
       "                                                                  '1']],\n",
       "                                                                None],\n",
       "                                                               None],\n",
       "                                                              ['Emil Verban',\n",
       "                                                               '5',\n",
       "                                                               '3']],\n",
       "                                                             ['Johnny Hopp',\n",
       "                                                              '4',\n",
       "                                                              '3']],\n",
       "                                                            ['Stan Musial',\n",
       "                                                             '4',\n",
       "                                                             '2']],\n",
       "                                                           ['Walker Cooper',\n",
       "                                                            '5',\n",
       "                                                            '1']],\n",
       "                                                          ['Ray Sanders',\n",
       "                                                           '5',\n",
       "                                                           '3']],\n",
       "                                                         ['Whitey Kurowski',\n",
       "                                                          '4',\n",
       "                                                          '3']],\n",
       "                                                        ['Danny Litwhiler',\n",
       "                                                         '5',\n",
       "                                                         '2']],\n",
       "                                                       ['Marty Marion',\n",
       "                                                        '4',\n",
       "                                                        '0']],\n",
       "                                                      ['Max Lanier',\n",
       "                                                       '5',\n",
       "                                                       '1']],\n",
       "                                                     None],\n",
       "                                                    None],\n",
       "                                                   ['Emil Verban', '5', '1']],\n",
       "                                                  ['Johnny Hopp', '4', '0']],\n",
       "                                                 ['Stan Musial', '4', '2']],\n",
       "                                                None],\n",
       "                                               ['Ray Sanders', '4', '1']],\n",
       "                                              ['Whitey Kurowski', '4', '1']],\n",
       "                                             ['Danny Litwhiler', '4', '1']],\n",
       "                                            ['Marty Marion', '3', '0']],\n",
       "                                           ['Harry Gumbert', '1', '0']],\n",
       "                                          None],\n",
       "                                         None],\n",
       "                                        ['Emil Verban', '4', '1']],\n",
       "                                       ['Johnny Hopp', '4', '1']],\n",
       "                                      ['Stan Musial', '2', '1']],\n",
       "                                     ['Walker Cooper', '4', '1']],\n",
       "                                    ['Ray Sanders', '4', '0']],\n",
       "                                   ['Whitey Kurowski', '4', '1']],\n",
       "                                  ['Danny Litwhiler', '4', '2']],\n",
       "                                 ['Marty Marion', '2', '0']],\n",
       "                                ['Mort Cooper', '0', '0']],\n",
       "                               ['Harry Gumbert', '1', '1']],\n",
       "                              None],\n",
       "                             None],\n",
       "                            ['Emil Verban', '6', '0']],\n",
       "                           ['Johnny Hopp', '6', '2']],\n",
       "                          ['Stan Musial', '4', '1']],\n",
       "                         None],\n",
       "                        ['Walker Cooper', '0', '0']],\n",
       "                       ['Ray Sanders', '5', '0']],\n",
       "                      ['Whitey Kurowski', '5', '0']],\n",
       "                     ['Danny Litwhiler', '4', '1']],\n",
       "                    ['Marty Marion', '5', '1']],\n",
       "                   ['Al Jurisich', '5', '0']],\n",
       "                  None],\n",
       "                 None],\n",
       "                ['Emil Verban', '4', '1']],\n",
       "               ['Johnny Hopp', '4', '1']],\n",
       "              ['Stan Musial', '3', '1']],\n",
       "             None],\n",
       "            ['Walker Cooper', '1', '1']],\n",
       "           ['Ray Sanders', '4', '1']],\n",
       "          ['Whitey Kurowski', '3', '1']],\n",
       "         ['Danny Litwhiler', '3', '1']],\n",
       "        ['Marty Marion', '3', '0']],\n",
       "       ['Red Munger', '3', '0']],\n",
       "      None],\n",
       "     None],\n",
       "    ['Emil Verban', '4', '1']],\n",
       "   ['Johnny Hopp', '4', '1']],\n",
       "  ['Stan Musial', '4', '2']],\n",
       " ['Walker Cooper', '4', '2']]"
      ]
     },
     "execution_count": 106,
     "metadata": {},
     "output_type": "execute_result"
    }
   ],
   "source": [
    "hhh"
   ]
  },
  {
   "cell_type": "code",
   "execution_count": null,
   "metadata": {},
   "outputs": [],
   "source": []
  }
 ],
 "metadata": {
  "kernelspec": {
   "display_name": "Python 3",
   "language": "python",
   "name": "python3"
  },
  "language_info": {
   "codemirror_mode": {
    "name": "ipython",
    "version": 3
   },
   "file_extension": ".py",
   "mimetype": "text/x-python",
   "name": "python",
   "nbconvert_exporter": "python",
   "pygments_lexer": "ipython3",
   "version": "3.6.5"
  }
 },
 "nbformat": 4,
 "nbformat_minor": 2
}
